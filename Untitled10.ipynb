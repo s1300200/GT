{
  "nbformat": 4,
  "nbformat_minor": 0,
  "metadata": {
    "colab": {
      "provenance": [],
      "authorship_tag": "ABX9TyMJIblwHgLwrD9/MnJ2M3Qg",
      "include_colab_link": true
    },
    "kernelspec": {
      "name": "python3",
      "display_name": "Python 3"
    },
    "language_info": {
      "name": "python"
    }
  },
  "cells": [
    {
      "cell_type": "markdown",
      "metadata": {
        "id": "view-in-github",
        "colab_type": "text"
      },
      "source": [
        "<a href=\"https://colab.research.google.com/github/s1300200/GT/blob/main/Untitled10.ipynb\" target=\"_parent\"><img src=\"https://colab.research.google.com/assets/colab-badge.svg\" alt=\"Open In Colab\"/></a>"
      ]
    },
    {
      "cell_type": "code",
      "execution_count": null,
      "metadata": {
        "id": "8zzDn4WLiCFs"
      },
      "outputs": [],
      "source": [
        "!pip -q install \"transformers>=4.40\" \"pytorch-lightning>=2.0\" fugashi ipadic beautifulsoup4 tqdm accelerate\n"
      ]
    },
    {
      "cell_type": "code",
      "source": [
        "!pip -q install fugashi unidic-lite\n"
      ],
      "metadata": {
        "id": "FCbREwV0mipI"
      },
      "execution_count": null,
      "outputs": []
    },
    {
      "cell_type": "code",
      "source": [
        "!pwd"
      ],
      "metadata": {
        "colab": {
          "base_uri": "https://localhost:8080/"
        },
        "id": "I3aOHQx3mnuH",
        "outputId": "961e12c5-0347-482c-b94d-1333d56573b0"
      },
      "execution_count": null,
      "outputs": [
        {
          "output_type": "stream",
          "name": "stdout",
          "text": [
            "/content\n"
          ]
        }
      ]
    },
    {
      "cell_type": "code",
      "source": [
        "# 作業ディレクトリ\n",
        "%cd /content\n",
        "\n",
        "# 必須4ファイル + サンプル入力テキスト\n",
        "!wget -q https://huggingface.co/sociocom/MedNER-CR-JA/resolve/main/NER_medNLP.py\n",
        "!wget -q https://huggingface.co/sociocom/MedNER-CR-JA/resolve/main/predict.py\n",
        "!wget -q https://huggingface.co/sociocom/MedNER-CR-JA/resolve/main/id_to_tags.pkl\n",
        "!wget -q https://huggingface.co/sociocom/MedNER-CR-JA/resolve/main/key_attr.pkl\n",
        "\n",
        "# 入力テキスト（1行=1文）を用意：自由に書き換え可能\n",
        "text = \"\"\"肥大型心筋症、心房細動に対してＷＦ投与が開始となった。\n",
        "治療経過中に非持続性心室頻拍が認められたためアミオダロンが併用となった。\"\"\"\n",
        "open(\"text.txt\",\"w\").write(text)\n"
      ],
      "metadata": {
        "colab": {
          "base_uri": "https://localhost:8080/"
        },
        "id": "ATagjhpOiCuY",
        "outputId": "6d55b7f3-c22c-44d6-ee30-9ad518c3eb27"
      },
      "execution_count": null,
      "outputs": [
        {
          "output_type": "stream",
          "name": "stdout",
          "text": [
            "/content\n"
          ]
        },
        {
          "output_type": "execute_result",
          "data": {
            "text/plain": [
              "64"
            ]
          },
          "metadata": {},
          "execution_count": 9
        }
      ]
    },
    {
      "cell_type": "code",
      "source": [
        "!python predict.py\n"
      ],
      "metadata": {
        "colab": {
          "base_uri": "https://localhost:8080/"
        },
        "id": "XhYedvfGiO_R",
        "outputId": "73aa59f3-94a3-414f-9de3-35922dfad8b8"
      },
      "execution_count": null,
      "outputs": [
        {
          "output_type": "stream",
          "name": "stdout",
          "text": [
            "2025-09-11 02:29:36.285737: E external/local_xla/xla/stream_executor/cuda/cuda_fft.cc:467] Unable to register cuFFT factory: Attempting to register factory for plugin cuFFT when one has already been registered\n",
            "WARNING: All log messages before absl::InitializeLog() is called are written to STDERR\n",
            "E0000 00:00:1757557776.317909    5718 cuda_dnn.cc:8579] Unable to register cuDNN factory: Attempting to register factory for plugin cuDNN when one has already been registered\n",
            "E0000 00:00:1757557776.329243    5718 cuda_blas.cc:1407] Unable to register cuBLAS factory: Attempting to register factory for plugin cuBLAS when one has already been registered\n",
            "W0000 00:00:1757557776.358481    5718 computation_placer.cc:177] computation placer already registered. Please check linkage and avoid linking the same target more than once.\n",
            "W0000 00:00:1757557776.358533    5718 computation_placer.cc:177] computation placer already registered. Please check linkage and avoid linking the same target more than once.\n",
            "W0000 00:00:1757557776.358538    5718 computation_placer.cc:177] computation placer already registered. Please check linkage and avoid linking the same target more than once.\n",
            "W0000 00:00:1757557776.358543    5718 computation_placer.cc:177] computation placer already registered. Please check linkage and avoid linking the same target more than once.\n",
            "2025-09-11 02:29:36.367096: I tensorflow/core/platform/cpu_feature_guard.cc:210] This TensorFlow binary is optimized to use available CPU instructions in performance-critical operations.\n",
            "To enable the following instructions: AVX2 FMA, in other operations, rebuild TensorFlow with the appropriate compiler flags.\n",
            "The tokenizer class you load from this checkpoint is not the same type as the class this function is called from. It may result in unexpected tokenization. \n",
            "The tokenizer class you load from this checkpoint is 'BertJapaneseTokenizer'. \n",
            "The class this function is called from is 'NER_tokenizer_BIO'.\n",
            "100% 2/2 [00:01<00:00,  1.44it/s]\n",
            "100% 1/1 [00:00<00:00, 1676.38it/s]\n",
            "<d certainty=\"positive\">肥大型心筋症、心房細動</d>に対して<m-key state=\"executed\">ＷＦ</m-key>投与が開始となった。\n",
            "<timex3 type=\"med\">治療経過中</timex3>に<d certainty=\"positive\">非持続性心室頻拍</d>が認められたため<m-key state=\"executed\">アミオダロン</m-key>が併用となった。\n"
          ]
        }
      ]
    }
  ]
}